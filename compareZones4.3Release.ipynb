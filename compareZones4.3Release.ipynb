{
 "cells": [
  {
   "cell_type": "code",
   "execution_count": null,
   "metadata": {},
   "outputs": [],
   "source": [
    "import pandas as pd\n",
    "import geopandas as gpd\n",
    "import numpy as np\n",
    "from shapely.geometry import box"
   ]
  },
  {
   "cell_type": "code",
   "execution_count": null,
   "metadata": {},
   "outputs": [],
   "source": [
    "layer1_gdf = gpd.read_file(r\"D:\\layer1_fixgeom.shp\")\n",
    "layer2_gdf = gpd.read_file(r\"D:\\layer2_fixgeom.shp\")\n",
    "\n",
    "print(len(layer1_gdf))\n",
    "print(len(layer2_gdf))"
   ]
  },
  {
   "cell_type": "markdown",
   "metadata": {},
   "source": [
    "`explode()`"
   ]
  },
  {
   "cell_type": "code",
   "execution_count": null,
   "metadata": {},
   "outputs": [],
   "source": [
    "layer1_gdf  = layer1_gdf.explode(ignore_index=False)\n",
    "layer2_gdf = layer2_gdf.explode(ignore_index=False)"
   ]
  },
  {
   "cell_type": "markdown",
   "metadata": {},
   "source": [
    "`drop_duplicates()`"
   ]
  },
  {
   "cell_type": "code",
   "execution_count": null,
   "metadata": {},
   "outputs": [],
   "source": [
    "layer1_gdf  = layer1_gdf.drop_duplicates(subset='geometry')\n",
    "layer2_gdf = layer2_gdf.drop_duplicates(subset='geometry')"
   ]
  },
  {
   "cell_type": "markdown",
   "metadata": {},
   "source": [
    "`is_valid`"
   ]
  },
  {
   "cell_type": "code",
   "execution_count": null,
   "metadata": {},
   "outputs": [],
   "source": [
    "layer1_gdf = layer1_gdf[layer1_gdf.is_valid]\n",
    "layer2_gdf = layer2_gdf[layer2_gdf.is_valid]"
   ]
  },
  {
   "cell_type": "code",
   "execution_count": null,
   "metadata": {},
   "outputs": [],
   "source": [
    "print(len(layer1_gdf))\n",
    "print(len(layer2_gdf))"
   ]
  },
  {
   "cell_type": "markdown",
   "metadata": {},
   "source": [
    "`geom_type.isin`"
   ]
  },
  {
   "cell_type": "code",
   "execution_count": null,
   "metadata": {},
   "outputs": [],
   "source": [
    "polygon_mask = layer1_gdf['geometry'].geom_type.isin(['Polygon'])\n",
    "polygon_mask.value_counts()"
   ]
  },
  {
   "cell_type": "code",
   "execution_count": null,
   "metadata": {},
   "outputs": [],
   "source": [
    "polygon_mask = layer2_gdf['geometry'].geom_type.isin(['Polygon'])\n",
    "polygon_mask.value_counts()"
   ]
  },
  {
   "cell_type": "markdown",
   "metadata": {},
   "source": [
    "**grid**"
   ]
  },
  {
   "cell_type": "markdown",
   "metadata": {},
   "source": [
    "`.total_bounds`"
   ]
  },
  {
   "cell_type": "code",
   "execution_count": null,
   "metadata": {},
   "outputs": [],
   "source": [
    "layer1_gdf.total_bounds"
   ]
  },
  {
   "cell_type": "code",
   "execution_count": null,
   "metadata": {},
   "outputs": [],
   "source": [
    "layer2_gdf.total_bounds"
   ]
  },
  {
   "cell_type": "markdown",
   "metadata": {},
   "source": [
    "`box()`\n",
    "\n",
    "*x-y bounding box is a (minx, miny, maxx, maxy) tuple.*"
   ]
  },
  {
   "cell_type": "code",
   "execution_count": null,
   "metadata": {},
   "outputs": [],
   "source": [
    "cell_size = 100\n",
    "\n",
    "xmin, ymin, xmax, ymax = layer2_gdf.total_bounds\n",
    "\n",
    "rows = np.arange(ymin, ymax, cell_size)\n",
    "cols = np.arange(xmin, xmax, cell_size)\n",
    "\n",
    "polygons = [box(x, y, x + cell_size, y + cell_size) for x in cols for y in rows]\n",
    "\n",
    "grid = gpd.GeoDataFrame({'geometry': polygons}, crs=layer2_gdf.crs)\n",
    "grid\n",
    "\n",
    "#grid.to_file(r\"D:\\grid.shp\")\n"
   ]
  },
  {
   "cell_type": "code",
   "execution_count": null,
   "metadata": {},
   "outputs": [],
   "source": [
    "print(layer1_gdf['geometry'].geom_type.value_counts())\n",
    "print(layer2_gdf['geometry'].geom_type.value_counts())"
   ]
  },
  {
   "cell_type": "markdown",
   "metadata": {},
   "source": [
    "`overlay()`"
   ]
  },
  {
   "cell_type": "code",
   "execution_count": null,
   "metadata": {},
   "outputs": [],
   "source": [
    "layer1_gdf = gpd.overlay(layer1_gdf, grid, how='intersection', keep_geom_type=True)\n",
    "layer2_gdf = gpd.overlay(layer2_gdf, grid, how='intersection', keep_geom_type=True)"
   ]
  },
  {
   "cell_type": "code",
   "execution_count": null,
   "metadata": {},
   "outputs": [],
   "source": [
    "layer1_gdf['SHAPE_Area'] = layer1_gdf['SHAPE_Area'].round(2).astype(str)\n",
    "layer2_gdf['SHAPE_Area'] = layer2_gdf['SHAPE_Area'].round(2).astype(str)"
   ]
  },
  {
   "cell_type": "code",
   "execution_count": null,
   "metadata": {},
   "outputs": [],
   "source": [
    "layer1_gdf.to_file(r\"D:\\dev\\compareZones\\layer1_grid.shp\")\n",
    "layer2_gdf.to_file(r\"D:\\dev\\compareZones\\layer2_grid.shp\")"
   ]
  },
  {
   "cell_type": "markdown",
   "metadata": {},
   "source": [
    "**fixgeom in QGIS**"
   ]
  },
  {
   "cell_type": "code",
   "execution_count": null,
   "metadata": {},
   "outputs": [],
   "source": [
    "layer1_gdf = gpd.read_file(r\"D:\\dev\\compareZones\\layer1_grid_fixgeom.shp\")\n",
    "layer2_gdf = gpd.read_file(r\"D:\\dev\\compareZones\\layer1_grid_fixgeom.shp\")\n",
    "\n",
    "print(len(layer1_gdf))\n",
    "print(len(layer2_gdf))"
   ]
  },
  {
   "cell_type": "markdown",
   "metadata": {},
   "source": [
    "`to_dict()`"
   ]
  },
  {
   "cell_type": "code",
   "execution_count": null,
   "metadata": {},
   "outputs": [],
   "source": [
    "layer1_dict = layer1_gdf.set_index('attr1')['attr2'].to_dict()\n",
    "layer1_dict\n"
   ]
  },
  {
   "cell_type": "code",
   "execution_count": null,
   "metadata": {},
   "outputs": [],
   "source": [
    "layer2_dict = layer2_gdf.set_index('attr1')['attr2'].to_dict()\n",
    "layer2_dict\n"
   ]
  },
  {
   "cell_type": "markdown",
   "metadata": {},
   "source": [
    "**get values from additinal excel table**"
   ]
  },
  {
   "cell_type": "code",
   "execution_count": null,
   "metadata": {},
   "outputs": [],
   "source": [
    "layer1_values = pd.read_excel(r\"D:\\table1.xlsx\", sheet_name=0)\n",
    "layer1_values"
   ]
  },
  {
   "cell_type": "code",
   "execution_count": null,
   "metadata": {},
   "outputs": [],
   "source": [
    "layer2_values = pd.read_excel(r\"D:\\table1.xlsx\", sheet_name=1)\n",
    "layer2_values"
   ]
  },
  {
   "cell_type": "code",
   "execution_count": null,
   "metadata": {},
   "outputs": [],
   "source": [
    "layer1_values_dict = layer1_values.set_index('attr3')['attr4'].to_dict()\n",
    "layer1_values_dict\n"
   ]
  },
  {
   "cell_type": "code",
   "execution_count": null,
   "metadata": {},
   "outputs": [],
   "source": [
    "layer2_values_dict = layer2_values.set_index('attr3')['attr4'].to_dict()\n",
    "layer2_values_dict\n"
   ]
  },
  {
   "cell_type": "markdown",
   "metadata": {},
   "source": [
    "**matrix**"
   ]
  },
  {
   "cell_type": "code",
   "execution_count": null,
   "metadata": {},
   "outputs": [],
   "source": [
    "matrix = pd.DataFrame(index=layer2_gdf['attr2'].unique(), columns=layer1_gdf['attr2'].unique())\n",
    "matrix.head(5)"
   ]
  },
  {
   "cell_type": "code",
   "execution_count": null,
   "metadata": {},
   "outputs": [],
   "source": [
    "matrix_renamed = matrix.rename(index=layer2_values_dict, columns=layer1_values_dict)\n",
    "matrix_renamed.head(5)"
   ]
  },
  {
   "cell_type": "code",
   "execution_count": null,
   "metadata": {},
   "outputs": [],
   "source": [
    "matrix_renamed.to_excel(r\"D:\\matrix_renamed.xlsx\")"
   ]
  },
  {
   "cell_type": "code",
   "execution_count": null,
   "metadata": {},
   "outputs": [],
   "source": [
    "matrix_ranked = pd.read_excel(r\"D:\\matrix_ranked.xlsx\", index_col=0)\n",
    "matrix_ranked.head(5)"
   ]
  },
  {
   "cell_type": "code",
   "execution_count": null,
   "metadata": {},
   "outputs": [],
   "source": [
    "layer1_values_dict_invert = layer1_values.set_index('attr4')['attr3'].to_dict()\n",
    "layer2_values_dict_invert = layer2_values.set_index('attr4')['attr3'].to_dict()\n"
   ]
  },
  {
   "cell_type": "code",
   "execution_count": null,
   "metadata": {},
   "outputs": [],
   "source": [
    "matrix_ranked_renamed = matrix_ranked.rename(index=layer2_values_dict_invert, columns=layer1_values_dict_invert)\n",
    "matrix = matrix_ranked_renamed.drop(columns = ['Unnamed: 19', 'Unnamed: 20', 'Unnamed: 21'], axis=1)\n",
    "matrix"
   ]
  },
  {
   "cell_type": "markdown",
   "metadata": {},
   "source": [
    "**matrix to dictionary**"
   ]
  },
  {
   "cell_type": "code",
   "execution_count": null,
   "metadata": {},
   "outputs": [],
   "source": [
    "matrix.index = matrix.index.astype(str)\n",
    "matrix.columns = matrix.columns.astype(str)"
   ]
  },
  {
   "cell_type": "code",
   "execution_count": null,
   "metadata": {},
   "outputs": [],
   "source": [
    "combination_dict = {}\n",
    "\n",
    "for layer1 in matrix.columns:\n",
    "    for layer2 in matrix.index:\n",
    "         value = int(matrix.loc[layer2, layer1])\n",
    "\n",
    "         combination_dict[(layer1, layer2)] = value\n",
    "\n",
    "combination_dict"
   ]
  },
  {
   "cell_type": "markdown",
   "metadata": {},
   "source": [
    "**intersection analysis**"
   ]
  },
  {
   "cell_type": "code",
   "execution_count": null,
   "metadata": {},
   "outputs": [],
   "source": [
    "results = []\n",
    "\n",
    "attribute = 'attr2'\n",
    "\n",
    "fz_layer2_sindex = layer2_gdf.sindex\n",
    "\n",
    "for feature_layer1 in layer1_gdf.itertuples():\n",
    "    if feature_layer1.geometry and feature_layer1.geometry.is_valid:\n",
    "        possible_matches_idx = list(fz_layer2_sindex.intersection(feature_layer1.geometry.bounds))\n",
    "        possible_matches = layer2_gdf.iloc[possible_matches_idx]\n",
    "\n",
    "        for feature_layer2 in possible_matches.itertuples():\n",
    "            if feature_layer2.geometry and feature_layer2.geometry.is_valid:\n",
    "                intersection = feature_layer1.geometry.intersection(feature_layer2.geometry)\n",
    "                if intersection and not intersection.is_empty:\n",
    "                    # Генерация ключа для поиска в словаре combination_dict\n",
    "                    key = (str(getattr(feature_layer1, attribute)), str(getattr(feature_layer2, attribute)))\n",
    "\n",
    "                    # Получаем результат из combination_dict\n",
    "                    result = combination_dict.get(key, None)\n",
    "\n",
    "                    # Добавляем результат в список\n",
    "                    results.append({\n",
    "                        \"geometry\": intersection,\n",
    "                        \"layer1_id\": feature_layer1.Index,\n",
    "                        \"lay1_att1\": getattr(feature_layer1, attribute),\n",
    "                        \"lay1_att2\": getattr(feature_layer1, 'attr1'),       \n",
    "                        \"layer2_id\": feature_layer2.Index,\n",
    "                        \"lay2_att1\": getattr(feature_layer2, attribute),\n",
    "                        \"lay2_att2\": getattr(feature_layer2, 'attr1'),\n",
    "                        \"result\": result\n",
    "                    })\n",
    "\n",
    "# Создаём GeoDataFrame с результатами\n",
    "results_gdf = gpd.GeoDataFrame(results, crs=layer1_gdf.crs)"
   ]
  },
  {
   "cell_type": "code",
   "execution_count": null,
   "metadata": {},
   "outputs": [],
   "source": [
    "results_gdf['result']"
   ]
  },
  {
   "cell_type": "code",
   "execution_count": null,
   "metadata": {},
   "outputs": [],
   "source": [
    "results_gdf.geom_type.value_counts()"
   ]
  },
  {
   "cell_type": "code",
   "execution_count": null,
   "metadata": {},
   "outputs": [],
   "source": [
    "results_polygon_gdf = results_gdf[results_gdf.geom_type.isin([\"Polygon\", \"MultiPolygon\", \"GeometryCollection\"])]\n",
    "results_polygon_gdf"
   ]
  },
  {
   "cell_type": "code",
   "execution_count": null,
   "metadata": {},
   "outputs": [],
   "source": [
    "results_polygon_gdf.to_file(r\"D:\\dev\\compareZones\\compareZones4.3.gpkg\")"
   ]
  }
 ],
 "metadata": {
  "kernelspec": {
   "display_name": "Python 3",
   "language": "python",
   "name": "python3"
  },
  "language_info": {
   "codemirror_mode": {
    "name": "ipython",
    "version": 3
   },
   "file_extension": ".py",
   "mimetype": "text/x-python",
   "name": "python",
   "nbconvert_exporter": "python",
   "pygments_lexer": "ipython3",
   "version": "3.12.4"
  }
 },
 "nbformat": 4,
 "nbformat_minor": 2
}
